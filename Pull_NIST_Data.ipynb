{
  "nbformat": 4,
  "nbformat_minor": 0,
  "metadata": {
    "colab": {
      "provenance": [],
      "authorship_tag": "ABX9TyP38rGNOmtStL55rHpMFx8y",
      "include_colab_link": true
    },
    "kernelspec": {
      "name": "python3",
      "display_name": "Python 3"
    },
    "language_info": {
      "name": "python"
    }
  },
  "cells": [
    {
      "cell_type": "markdown",
      "metadata": {
        "id": "view-in-github",
        "colab_type": "text"
      },
      "source": [
        "<a href=\"https://colab.research.google.com/github/ds7389/CS_6233-Introduction_to_OS-Rearch_Project/blob/main/Pull_NIST_Data.ipynb\" target=\"_parent\"><img src=\"https://colab.research.google.com/assets/colab-badge.svg\" alt=\"Open In Colab\"/></a>"
      ]
    },
    {
      "cell_type": "markdown",
      "source": [
        "*Disclaimer:*\n",
        "\"This product uses data from the NVD API but is not endorsed or certified by the NVD.\"\n",
        "\n",
        "\n",
        "All NIST publications are available in the public domain according to Title 17 of the United States Code, however services which utilize or access the NVD are asked to display the following notice prominently within the application:\n",
        "\n",
        "\"This product uses data from the NVD API but is not endorsed or certified by the NVD.\"\n",
        "\n",
        "You may use the NVD name to identify the source of the data. You may not use the NVD name, to imply endorsement of any product, service, or entity, not-for-profit, commercial or otherwise. For information on how to the cite the NVD, including the database's Digital Object Identifier (DOI), please consult NIST's Public Data Repository."
      ],
      "metadata": {
        "id": "WXUkl1a4cioA"
      }
    },
    {
      "cell_type": "markdown",
      "source": [
        "## Setup Code"
      ],
      "metadata": {
        "id": "XBMbl9xVR4ou"
      }
    },
    {
      "cell_type": "code",
      "source": [
        "###--- Mount Drive ---###\n",
        "from google.colab import drive\n",
        "drive.mount('/content/drive')\n"
      ],
      "metadata": {
        "colab": {
          "base_uri": "https://localhost:8080/"
        },
        "id": "awJFKGWKP6xH",
        "outputId": "ec368896-8439-4d0f-87b5-15a23de7f4d1"
      },
      "execution_count": 2,
      "outputs": [
        {
          "output_type": "stream",
          "name": "stdout",
          "text": [
            "Mounted at /content/drive\n"
          ]
        }
      ]
    },
    {
      "cell_type": "code",
      "source": [
        "###-- Libraries ---###\n",
        "import json\n",
        "import requests\n",
        "import os\n",
        "import time\n",
        "import datetime\n",
        "import calendar # Import the calendar module to get the number of days in a month\n",
        "import pandas as pd\n",
        "\n",
        "\n"
      ],
      "metadata": {
        "id": "tD2zbuEIQpyR"
      },
      "execution_count": 3,
      "outputs": []
    },
    {
      "cell_type": "code",
      "metadata": {
        "colab": {
          "base_uri": "https://localhost:8080/"
        },
        "outputId": "e3abb68f-d5aa-482a-e7c4-d95258a0b0cf",
        "id": "uUDAbnzxF3ic"
      },
      "source": [
        "%pip install xlsxwriter"
      ],
      "execution_count": 3,
      "outputs": [
        {
          "output_type": "stream",
          "name": "stdout",
          "text": [
            "Requirement already satisfied: xlsxwriter in /usr/local/lib/python3.11/dist-packages (3.2.5)\n"
          ]
        }
      ]
    },
    {
      "cell_type": "markdown",
      "source": [
        "## General Helper Functions"
      ],
      "metadata": {
        "id": "8t7yqlxR4HtZ"
      }
    },
    {
      "cell_type": "code",
      "source": [
        "################################################################################\n",
        "## Helper Function to create count of entries in a data dict\n",
        "################################################################################\n",
        "\n",
        "\n",
        "def count_entries(data_dict: dict) -> tuple[dict, int]:\n",
        "  \"\"\"\n",
        "  Counts the number of entries per year and the total number of entries in a dictionary.\n",
        "  Args:\n",
        "      data_dict (dict): A dictionary where keys are years and values are lists of entries.\n",
        "  Returns:\n",
        "      tuple: A tuple containing:\n",
        "          - dict: A dictionary with years as keys and entry counts as values.\n",
        "          - int: The total number of entries.\n",
        "  \"\"\"\n",
        "  entries_per_year = {}\n",
        "  total_entries = 0\n",
        "  for year, entries in data_dict.items():\n",
        "    count = len(entries)\n",
        "    entries_per_year[year] = count\n",
        "    total_entries += count\n",
        "  return entries_per_year, total_entries\n",
        "\n",
        "################################################################################\n",
        "### Helper function to print entries total and per year\n",
        "################################################################################\n",
        "\n",
        "def print_entries_total_and_per_year(data_dict: dict):\n",
        "  \"\"\"\n",
        "  Prints the total number of entries and the number of entries per year in a formatted way.\n",
        "\n",
        "  \"\"\"\n",
        "\n",
        "  entries_per_year_count, total_entries_count = count_entries(data_dict)\n",
        "  print(\"\\nNumber of entries per year:\")\n",
        "  for year, count in entries_per_year_count.items():\n",
        "      print(f\"Year {year}: {count} entries\")\n",
        "  print(f\"\\nTotal number of entries: {total_entries_count}\")\n",
        "\n",
        "  #print(f\"\\nThis is the total number: {total_entries} entries\")\n",
        "\n",
        "\n"
      ],
      "metadata": {
        "id": "PuOK7atpqB7D"
      },
      "execution_count": 4,
      "outputs": []
    },
    {
      "cell_type": "code",
      "source": [
        "################################################################################\n",
        "### Helper function to create fully qualified paths to file\n",
        "################################################################################\n",
        "\n",
        "def path_to_file_in_top_level(file_name: str) -> str:\n",
        "  \"\"\"\n",
        "  Takes the file name, and gives it a fully qualified path to the top level folder.\n",
        "  Returns:\n",
        "    str: The fully qualified path to the file.\n",
        "  \"\"\"\n",
        "  file_path = os.path.join('/content/drive/MyDrive', file_name)\n",
        "  return file_path\n",
        "\n",
        "\n",
        "\n",
        "print(path_to_file_in_top_level(\"nvd_vulnerability.json\"))\n",
        "\n"
      ],
      "metadata": {
        "colab": {
          "base_uri": "https://localhost:8080/"
        },
        "id": "TMS7WYMew63a",
        "outputId": "27289c83-ae57-46bf-95b5-efd8ed2783a0"
      },
      "execution_count": 6,
      "outputs": [
        {
          "output_type": "stream",
          "name": "stdout",
          "text": [
            "/content/drive/MyDrive/nvd_vulnerability.json\n"
          ]
        }
      ]
    },
    {
      "cell_type": "markdown",
      "source": [
        "## Project Controls"
      ],
      "metadata": {
        "id": "cifaQ6bY60UZ"
      }
    },
    {
      "cell_type": "code",
      "source": [
        "###---  Control Varibales ---###\n",
        "DEBUG = False               # Set to True if need to debug funcationality\n",
        "ORIGINAL_DATA = False       # Set to True if you want to repull the original dataset."
      ],
      "metadata": {
        "id": "PFK79NzBQ6YE"
      },
      "execution_count": 6,
      "outputs": []
    },
    {
      "cell_type": "code",
      "source": [
        "# Define the file path in Google Drive for the project\n",
        "# You can change 'nvd_vulnerabilities.json' to your desired filename\n",
        "json_file_path = path_to_file_in_top_level(\"nvd_vulnerabilities.json\")\n",
        "\n",
        "\n",
        "print(json_file_path)"
      ],
      "metadata": {
        "colab": {
          "base_uri": "https://localhost:8080/"
        },
        "id": "xDfMjNXGyEAz",
        "outputId": "c3e5c661-6944-45ad-963b-d874e61deef7"
      },
      "execution_count": 7,
      "outputs": [
        {
          "output_type": "stream",
          "name": "stdout",
          "text": [
            "/content/drive/MyDrive/nvd_vulnerabilities.json\n"
          ]
        }
      ]
    },
    {
      "cell_type": "markdown",
      "source": [
        "## Pull Data via API"
      ],
      "metadata": {
        "id": "SYKk3cAhRKpl"
      }
    },
    {
      "cell_type": "code",
      "metadata": {
        "id": "6c46842e"
      },
      "source": [
        "################################################################################\n",
        "###  API Call to pull full data set from NIST and store in dict nvd_data\n",
        "################################################################################\n",
        "\n",
        "###--- Libraries for this Cell ---###\n",
        "#import datetime\n",
        "#import time\n",
        "#import os\n",
        "#import calendar # Import the calendar module to get the number of days in a month\n",
        "\n",
        "if(ORIGINAL_DATA):\n",
        "  BASE_URL = \"https://services.nvd.nist.gov\"\n",
        "  ENDPOINT = \"/rest/json/cves/2.0\"\n",
        "  YEARS = list(range(2020, 2026))\n",
        "  API_KEY = os.environ.get('NVD_API_KEY') # Access API key from Colab secrets\n",
        "\n",
        "  def get_vulnerabilities_by_month(year, month):\n",
        "      \"\"\"Retrieves vulnerability data for a given month from the NVD API.\"\"\"\n",
        "      start_date = datetime.datetime(year, month, 1, 0, 0, 0).strftime('%Y-%m-%dT%H:%M:%S.000Z')\n",
        "      # Calculate the last day of the month\n",
        "      last_day = calendar.monthrange(year, month)[1]\n",
        "      end_date_obj = datetime.datetime(year, month, last_day, 23, 59, 59, 999999)\n",
        "      end_date = end_date_obj.strftime('%Y-%m-%dT%H:%M:%S.999Z')\n",
        "\n",
        "      all_vulnerabilities = []\n",
        "      start_index = 0\n",
        "      results_per_page = 2000 # NVD API allows up to 2000 results per page\n",
        "\n",
        "      headers = {}\n",
        "      if API_KEY:\n",
        "          headers['apiKey'] = API_KEY\n",
        "\n",
        "      while True:\n",
        "          params = {\n",
        "              'pubStartDate': start_date,\n",
        "              'pubEndDate': end_date,\n",
        "              'resultsPerPage': results_per_page,\n",
        "              'startIndex': start_index\n",
        "          }\n",
        "          request_url = f\"{BASE_URL}{ENDPOINT}\"\n",
        "\n",
        "          try:\n",
        "              print(f\"Fetching data for {year}-{month:02d}, startIndex {start_index}...\")\n",
        "              response = requests.get(request_url, params=params, headers=headers)\n",
        "              response.raise_for_status()  # Raise an exception for bad status codes\n",
        "\n",
        "              data = response.json()\n",
        "              vulnerabilities = data.get('vulnerabilities', [])\n",
        "              total_results = data.get('totalResults', 0)\n",
        "\n",
        "              all_vulnerabilities.extend(vulnerabilities)\n",
        "\n",
        "              if start_index + len(vulnerabilities) >= total_results:\n",
        "                  break  # All data retrieved\n",
        "              else:\n",
        "                  start_index += len(vulnerabilities)\n",
        "                  time.sleep(6) # Add a delay to avoid hitting API limits\n",
        "\n",
        "          except requests.exceptions.RequestException as e:\n",
        "              print(f\"Error fetching data for {year}-{month:02d}, startIndex {start_index}: {e}\")\n",
        "              # If we get an error for a month, log it but continue to the next\n",
        "              break # Stop fetching for this month if an error occurs\n",
        "\n",
        "      return all_vulnerabilities\n",
        "\n",
        "  # Retrieve data for each year by iterating through months\n",
        "  nvd_data = {}\n",
        "  for year in YEARS:\n",
        "      print(f\"\\n--- Fetching data for year {year} ---\")\n",
        "      year_vulnerabilities = []\n",
        "      # Only fetch data up to the current month for the current year (2025-07)\n",
        "      end_month = 12\n",
        "      if year == datetime.datetime.now().year:\n",
        "        end_month = datetime.datetime.now().month\n",
        "\n",
        "\n",
        "      for month in range(1, end_month + 1):\n",
        "          month_data = get_vulnerabilities_by_month(year, month)\n",
        "          year_vulnerabilities.extend(month_data)\n",
        "          # Add a longer delay between months to be safe\n",
        "          time.sleep(10)\n",
        "\n",
        "      nvd_data[year] = year_vulnerabilities\n",
        "      print(f\"Finished fetching data for year {year}. Retrieved {len(nvd_data[year])} vulnerabilities.\")\n",
        "      # Add a longer delay between years\n",
        "      time.sleep(20)\n",
        "\n",
        "  # The retrieved data is stored in the 'nvd_data' dictionary.\n",
        "  # Print a summary of the retrieved data\n",
        "  print(\"\\n--- Summary of Retrieved Data ---\")\n",
        "  total_vulnerabilities = 0\n",
        "  for year, data in nvd_data.items():\n",
        "      print(f\"Year {year}: {len(data)} vulnerabilities\")\n",
        "      total_vulnerabilities += len(data)\n",
        "  print(f\"Total vulnerabilities retrieved: {total_vulnerabilities}\")\n"
      ],
      "execution_count": 8,
      "outputs": []
    },
    {
      "cell_type": "code",
      "metadata": {
        "id": "6713d7f0"
      },
      "source": [
        "################################################################################\n",
        "###  Save nvd_data dict as json file.\n",
        "################################################################################\n",
        "\"\"\"\n",
        "This only needs to be run when the original data is pulled.\n",
        "\"\"\"\n",
        "\n",
        "if(ORIGINAL_DATA):\n",
        "\n",
        "  # Save the nvd_data dictionary to a JSON file\n",
        "  with open(json_file_path, 'w') as f:\n",
        "      json.dump(nvd_data, f, indent=4)\n",
        "\n",
        "  print(f\"Successfully saved NVD vulnerability data to {json_file_path}\")"
      ],
      "execution_count": 9,
      "outputs": []
    },
    {
      "cell_type": "markdown",
      "source": [
        "## Load Data from file to dict \"nvd_data\""
      ],
      "metadata": {
        "id": "yfqw4BxJRQ4C"
      }
    },
    {
      "cell_type": "code",
      "source": [
        "################################################################################\n",
        "### Load the saved data from Google Drive and store as nvd_data\n",
        "################################################################################\n",
        "\n",
        "###--- Libraries for this Cell ---###\n",
        "#import json\n",
        "\n",
        "## Define the file path in Google Drive where the JSON data is saved\n",
        "#json_file_path = '/content/drive/MyDrive/CY-GY_6233/Reserach_Paper/DATA/NIST_NVD/nvd_vulnerabilities.json'\n",
        "\n",
        "# Load the JSON data from the file into the nvd_data variable\n",
        "try:\n",
        "    with open(json_file_path, 'r') as f:\n",
        "        nvd_data = json.load(f)\n",
        "    print(f\"Successfully loaded data from {json_file_path}\")\n",
        "except FileNotFoundError:\n",
        "    print(f\"Error: The file {json_file_path} was not found.\")\n",
        "    nvd_data = None # Set nvd_data to None if the file is not found\n",
        "except json.JSONDecodeError:\n",
        "    print(f\"Error: Could not decode JSON from {json_file_path}. Check the file format.\")\n",
        "    nvd_data = None # Set nvd_data to None if there's a JSON decoding error\n",
        "\n",
        "print(type(nvd_data))"
      ],
      "metadata": {
        "colab": {
          "base_uri": "https://localhost:8080/"
        },
        "id": "CEkHVv5ZPEwk",
        "outputId": "8395ef11-10b5-403d-9dfb-2939dc57bee3"
      },
      "execution_count": 10,
      "outputs": [
        {
          "output_type": "stream",
          "name": "stdout",
          "text": [
            "Successfully loaded data from /content/drive/MyDrive/nvd_vulnerabilities.json\n",
            "<class 'dict'>\n"
          ]
        }
      ]
    }
  ]
}